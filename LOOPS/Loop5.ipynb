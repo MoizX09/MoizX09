{
 "cells": [
  {
   "cell_type": "code",
   "execution_count": 2,
   "id": "c4afe179",
   "metadata": {},
   "outputs": [
    {
     "name": "stdout",
     "output_type": "stream",
     "text": [
      "['dog', 'Camel', 'dog', 'fish', 'Camel', 'rabbit', 'cat']\n",
      "['dog', 'Camel', 'dog', 'fish', 'Camel', 'rabbit', 'cat']\n"
     ]
    }
   ],
   "source": [
    "pets = ['dog', 'Cat', 'dog', 'fish', 'Cat', 'rabbit', 'cat']\n",
    "print(pets)\n",
    "\n",
    "while 'camel' in pets:\n",
    "    pets.remove('camel')\n",
    "\n",
    "print(pets)"
   ]
  },
  {
   "cell_type": "code",
   "execution_count": null,
   "id": "42dc8416",
   "metadata": {},
   "outputs": [],
   "source": []
  }
 ],
 "metadata": {
  "kernelspec": {
   "display_name": "Python 3 (ipykernel)",
   "language": "python",
   "name": "python3"
  },
  "language_info": {
   "codemirror_mode": {
    "name": "ipython",
    "version": 3
   },
   "file_extension": ".py",
   "mimetype": "text/x-python",
   "name": "python",
   "nbconvert_exporter": "python",
   "pygments_lexer": "ipython3",
   "version": "3.11.3"
  }
 },
 "nbformat": 4,
 "nbformat_minor": 5
}
