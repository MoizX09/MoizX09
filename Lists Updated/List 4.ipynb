{
 "cells": [
  {
   "cell_type": "code",
   "execution_count": 1,
   "id": "0c72319f",
   "metadata": {},
   "outputs": [
    {
     "name": "stdout",
     "output_type": "stream",
     "text": [
      "Germany\n",
      "France\n",
      "UK\n",
      "Turkey\n",
      "Canada\n"
     ]
    }
   ],
   "source": [
    "countries_list = ['Germany','France' , 'UK', 'Turkey', 'Canada']\n",
    "\n",
    "for x in countries_list:\n",
    " print (x)"
   ]
  },
  {
   "cell_type": "code",
   "execution_count": null,
   "id": "8f416403",
   "metadata": {},
   "outputs": [],
   "source": []
  }
 ],
 "metadata": {
  "kernelspec": {
   "display_name": "Python 3 (ipykernel)",
   "language": "python",
   "name": "python3"
  },
  "language_info": {
   "codemirror_mode": {
    "name": "ipython",
    "version": 3
   },
   "file_extension": ".py",
   "mimetype": "text/x-python",
   "name": "python",
   "nbconvert_exporter": "python",
   "pygments_lexer": "ipython3",
   "version": "3.11.3"
  }
 },
 "nbformat": 4,
 "nbformat_minor": 5
}
