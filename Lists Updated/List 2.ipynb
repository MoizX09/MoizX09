{
 "cells": [
  {
   "cell_type": "code",
   "execution_count": 1,
   "id": "882c1263",
   "metadata": {},
   "outputs": [
    {
     "name": "stdout",
     "output_type": "stream",
     "text": [
      "Germany\n"
     ]
    }
   ],
   "source": [
    "countries_list = ['Germany','France' , 'UK', 'Turkey', 'Canada']\n",
    "\n",
    "print(countries_list[0])"
   ]
  },
  {
   "cell_type": "code",
   "execution_count": null,
   "id": "193b6dac",
   "metadata": {},
   "outputs": [],
   "source": []
  }
 ],
 "metadata": {
  "kernelspec": {
   "display_name": "Python 3 (ipykernel)",
   "language": "python",
   "name": "python3"
  },
  "language_info": {
   "codemirror_mode": {
    "name": "ipython",
    "version": 3
   },
   "file_extension": ".py",
   "mimetype": "text/x-python",
   "name": "python",
   "nbconvert_exporter": "python",
   "pygments_lexer": "ipython3",
   "version": "3.11.3"
  }
 },
 "nbformat": 4,
 "nbformat_minor": 5
}
