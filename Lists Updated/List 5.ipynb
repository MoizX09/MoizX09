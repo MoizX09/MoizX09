{
 "cells": [
  {
   "cell_type": "code",
   "execution_count": 1,
   "id": "f16668cd",
   "metadata": {},
   "outputs": [
    {
     "name": "stdout",
     "output_type": "stream",
     "text": [
      "[1, 4, 9, 16, 25, 36, 49, 64, 81, 100, 121, 144, 169, 196, 225, 256, 289, 324, 361, 400, 441, 484]\n"
     ]
    }
   ],
   "source": [
    "squre = []\n",
    "\n",
    "for x in range(1, 23):\n",
    "    squre.append(x**2)\n",
    "\n",
    "print(squre)"
   ]
  },
  {
   "cell_type": "code",
   "execution_count": null,
   "id": "bc23773f",
   "metadata": {},
   "outputs": [],
   "source": []
  }
 ],
 "metadata": {
  "kernelspec": {
   "display_name": "Python 3 (ipykernel)",
   "language": "python",
   "name": "python3"
  },
  "language_info": {
   "codemirror_mode": {
    "name": "ipython",
    "version": 3
   },
   "file_extension": ".py",
   "mimetype": "text/x-python",
   "name": "python",
   "nbconvert_exporter": "python",
   "pygments_lexer": "ipython3",
   "version": "3.11.3"
  }
 },
 "nbformat": 4,
 "nbformat_minor": 5
}
