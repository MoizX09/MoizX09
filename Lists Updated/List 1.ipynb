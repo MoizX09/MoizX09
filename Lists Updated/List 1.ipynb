{
 "cells": [
  {
   "cell_type": "code",
   "execution_count": 1,
   "id": "e22e128d",
   "metadata": {},
   "outputs": [
    {
     "name": "stdout",
     "output_type": "stream",
     "text": [
      "['Germany', 'France', 'UK', 'Turkey', 'Canada']\n"
     ]
    }
   ],
   "source": [
    "countries_list = ['Germany','France' , 'UK', 'Turkey', 'Canada']\n",
    "\n",
    "print(countries_list)"
   ]
  },
  {
   "cell_type": "code",
   "execution_count": null,
   "id": "3076bd1a",
   "metadata": {},
   "outputs": [],
   "source": []
  }
 ],
 "metadata": {
  "kernelspec": {
   "display_name": "Python 3 (ipykernel)",
   "language": "python",
   "name": "python3"
  },
  "language_info": {
   "codemirror_mode": {
    "name": "ipython",
    "version": 3
   },
   "file_extension": ".py",
   "mimetype": "text/x-python",
   "name": "python",
   "nbconvert_exporter": "python",
   "pygments_lexer": "ipython3",
   "version": "3.11.3"
  }
 },
 "nbformat": 4,
 "nbformat_minor": 5
}
