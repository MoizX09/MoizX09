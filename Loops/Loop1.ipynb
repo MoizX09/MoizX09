{
 "cells": [
  {
   "cell_type": "code",
   "execution_count": null,
   "id": "df8ca17f",
   "metadata": {},
   "outputs": [],
   "source": [
    "countries_list = [\"Pakistan\", \"India\", \"Japan\", \"China\", \"USA\"]\n",
    "\n",
    "for x in countries_list:\n",
    "    print(x)"
   ]
  }
 ],
 "metadata": {
  "kernelspec": {
   "display_name": "Python 3 (ipykernel)",
   "language": "python",
   "name": "python3"
  },
  "language_info": {
   "codemirror_mode": {
    "name": "ipython",
    "version": 3
   },
   "file_extension": ".py",
   "mimetype": "text/x-python",
   "name": "python",
   "nbconvert_exporter": "python",
   "pygments_lexer": "ipython3",
   "version": "3.11.3"
  }
 },
 "nbformat": 4,
 "nbformat_minor": 5
}
