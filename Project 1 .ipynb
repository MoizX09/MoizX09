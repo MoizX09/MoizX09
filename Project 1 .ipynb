{
 "cells": [
  {
   "cell_type": "code",
   "execution_count": 1,
   "id": "21cb652c",
   "metadata": {},
   "outputs": [
    {
     "name": "stdout",
     "output_type": "stream",
     "text": [
      "Adeel is a student.\n",
      "Adeel likes Apple.\n",
      "Adeel likes Mango.\n",
      "Adeel likes Banana.\n",
      "Adeel likes Cherry.\n",
      "Adeel is not an Adult.\n",
      "Name: Moiz\n",
      "Age: 22\n",
      "Is_self-employed: False\n"
     ]
    }
   ],
   "source": [
    "name = 'Adeel'\n",
    "age = 21\n",
    "is_student = 'True'\n",
    "\n",
    "fruits = ['Apple','Mango', 'Banana', 'Cherry']\n",
    "\n",
    "#Dict.\n",
    "person = {\n",
    "\"Name\" : \"Moiz\",\n",
    "\"Age\" : 22,\n",
    "\"Is_self-employed\" : \"False\"\n",
    " }\n",
    "\n",
    "if is_student:\n",
    "    print(f\"{name} is a student.\")\n",
    "else:\n",
    "    print(f\"{name} is not a student.\")\n",
    "    \n",
    "for fruit in fruits:\n",
    "    print(f\"{name} likes {fruit}.\")\n",
    "    \n",
    "if age <=18:\n",
    "    print(f\"{name} is an Adult.\")\n",
    "else:\n",
    "    print(f\"{name} is not an Adult.\")\n",
    "    \n",
    "for key, value in person.items():\n",
    "    print(f\"{key}: {value}\")\n"
   ]
  },
  {
   "cell_type": "code",
   "execution_count": null,
   "id": "191699a3",
   "metadata": {},
   "outputs": [],
   "source": []
  }
 ],
 "metadata": {
  "kernelspec": {
   "display_name": "Python 3 (ipykernel)",
   "language": "python",
   "name": "python3"
  },
  "language_info": {
   "codemirror_mode": {
    "name": "ipython",
    "version": 3
   },
   "file_extension": ".py",
   "mimetype": "text/x-python",
   "name": "python",
   "nbconvert_exporter": "python",
   "pygments_lexer": "ipython3",
   "version": "3.11.3"
  }
 },
 "nbformat": 4,
 "nbformat_minor": 5
}
