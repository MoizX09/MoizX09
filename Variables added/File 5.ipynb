{
 "cells": [
  {
   "cell_type": "code",
   "execution_count": null,
   "id": "fc0bf96f",
   "metadata": {},
   "outputs": [],
   "source": [
    "first_name = \"Abdul\"\n",
    "mid_name = \"Moiz\"\n",
    "last_name = \"Khan\"\n",
    "\n",
    "print(first_name + \" \" + mid_name +  + last_name)"
   ]
  }
 ],
 "metadata": {
  "kernelspec": {
   "display_name": "Python 3 (ipykernel)",
   "language": "python",
   "name": "python3"
  },
  "language_info": {
   "codemirror_mode": {
    "name": "ipython",
    "version": 3
   },
   "file_extension": ".py",
   "mimetype": "text/x-python",
   "name": "python",
   "nbconvert_exporter": "python",
   "pygments_lexer": "ipython3",
   "version": "3.11.3"
  }
 },
 "nbformat": 4,
 "nbformat_minor": 5
}
