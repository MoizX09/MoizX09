{
 "cells": [
  {
   "cell_type": "code",
   "execution_count": null,
   "id": "6b7a943b",
   "metadata": {},
   "outputs": [],
   "source": [
    "firstName = \"Moiz\"\n",
    "print(firstName)\n",
    "fullName = \"Abdul Moiz Khan\"\n",
    "print(fullName)\n",
    "\n",
    "score1 = int(input(\"Enter the score 1: \"))\n",
    "score2 = int(input(\"Enter the score 2: \"))\n",
    "totalString = score1 + score2\n",
    "messageString = \"Total score is %s \"\n",
    "\n",
    "print(messageString % totalString)\n",
    "\n",
    "totalInt = int(score1) + int(score2)\n",
    "messageString = \"Total score is %s \"\n",
    "print(messageString % totalInt)\n",
    "\n",
    "score1 = int(input(\"Enter the score 1: \"))\n",
    "score2 = int(input(\"Enter the score 2: \"))\n",
    "total = score1 + score2\n",
    "messageString = \"score1(%s ) + score2[%s ] = %s \"\n",
    "print(messageString % (score1, score2, total))"
   ]
  },
  {
   "cell_type": "code",
   "execution_count": null,
   "id": "504e2b6c",
   "metadata": {},
   "outputs": [],
   "source": []
  },
  {
   "cell_type": "code",
   "execution_count": null,
   "id": "6c4fa333",
   "metadata": {},
   "outputs": [],
   "source": []
  }
 ],
 "metadata": {
  "kernelspec": {
   "display_name": "Python 3 (ipykernel)",
   "language": "python",
   "name": "python3"
  },
  "language_info": {
   "codemirror_mode": {
    "name": "ipython",
    "version": 3
   },
   "file_extension": ".py",
   "mimetype": "text/x-python",
   "name": "python",
   "nbconvert_exporter": "python",
   "pygments_lexer": "ipython3",
   "version": "3.11.3"
  }
 },
 "nbformat": 4,
 "nbformat_minor": 5
}
