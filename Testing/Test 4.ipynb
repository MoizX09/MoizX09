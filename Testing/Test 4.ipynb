{
 "cells": [
  {
   "cell_type": "code",
   "execution_count": null,
   "id": "80c35ce6",
   "metadata": {},
   "outputs": [],
   "source": [
    "def get_full_name(first, middle, last):\n",
    "\n",
    "    try:\n",
    "        full_name = \"{0} {1} {2}\".format(first,middle, last)\n",
    "\n",
    "    except:\n",
    "        full_name = \"{0} {1}\".format(first, last)\n",
    "\n",
    "    else:\n",
    "        full_name = \"{0} {1}\".format(first, middle)\n",
    "\n",
    "    return full_name.title()\n",
    "\n",
    "\n",
    "print(get_full_name('Adeel', 'Qasim'))"
   ]
  }
 ],
 "metadata": {
  "kernelspec": {
   "display_name": "Python 3 (ipykernel)",
   "language": "python",
   "name": "python3"
  },
  "language_info": {
   "codemirror_mode": {
    "name": "ipython",
    "version": 3
   },
   "file_extension": ".py",
   "mimetype": "text/x-python",
   "name": "python",
   "nbconvert_exporter": "python",
   "pygments_lexer": "ipython3",
   "version": "3.11.3"
  }
 },
 "nbformat": 4,
 "nbformat_minor": 5
}
