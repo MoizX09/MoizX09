{
 "cells": [
  {
   "cell_type": "code",
   "execution_count": null,
   "id": "581852e4",
   "metadata": {},
   "outputs": [],
   "source": [
    "import unittest\n",
    "from Test1 import get_full_name\n",
    "\n",
    "class NamesTestCase(unittest.TestCase):\n",
    "    def test_first_last(self):\n",
    "        full_name = get_full_name('janis', 'joplin')\n",
    "        self.assertEqual(full_name, 'Janis Joplin')\n",
    "\n",
    "unittest.main()"
   ]
  }
 ],
 "metadata": {
  "kernelspec": {
   "display_name": "Python 3 (ipykernel)",
   "language": "python",
   "name": "python3"
  },
  "language_info": {
   "codemirror_mode": {
    "name": "ipython",
    "version": 3
   },
   "file_extension": ".py",
   "mimetype": "text/x-python",
   "name": "python",
   "nbconvert_exporter": "python",
   "pygments_lexer": "ipython3",
   "version": "3.11.3"
  }
 },
 "nbformat": 4,
 "nbformat_minor": 5
}
