{
 "cells": [
  {
   "cell_type": "code",
   "execution_count": null,
   "id": "89e9ba17",
   "metadata": {},
   "outputs": [],
   "source": [
    "from Test1 import get_full_name\n",
    "\n",
    "\n",
    "Jack = get_full_name('Jack', 'Doppy')\n",
    "print(Jack)\n",
    "\n",
    "bruce = get_full_name('bruce', 'dylan')\n",
    "print(bruce)"
   ]
  }
 ],
 "metadata": {
  "kernelspec": {
   "display_name": "Python 3 (ipykernel)",
   "language": "python",
   "name": "python3"
  },
  "language_info": {
   "codemirror_mode": {
    "name": "ipython",
    "version": 3
   },
   "file_extension": ".py",
   "mimetype": "text/x-python",
   "name": "python",
   "nbconvert_exporter": "python",
   "pygments_lexer": "ipython3",
   "version": "3.11.3"
  }
 },
 "nbformat": 4,
 "nbformat_minor": 5
}
