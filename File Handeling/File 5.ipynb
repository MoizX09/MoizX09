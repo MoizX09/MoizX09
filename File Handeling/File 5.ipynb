{
 "cells": [
  {
   "cell_type": "code",
   "execution_count": null,
   "id": "407dc38c",
   "metadata": {},
   "outputs": [],
   "source": [
    "# Creating txt file and adding data from other txt file.\n",
    "\n",
    "\n",
    "file = \"file.txt\"\n",
    "\n",
    "with open(file, 'r') as f:\n",
    "    lines = f.readlines()\n",
    "\n",
    "\n",
    "with open(\"new_file1.txt\", 'w+') as f:\n",
    "    for line in lines:\n",
    "        f.write(line)"
   ]
  }
 ],
 "metadata": {
  "kernelspec": {
   "display_name": "Python 3 (ipykernel)",
   "language": "python",
   "name": "python3"
  },
  "language_info": {
   "codemirror_mode": {
    "name": "ipython",
    "version": 3
   },
   "file_extension": ".py",
   "mimetype": "text/x-python",
   "name": "python",
   "nbconvert_exporter": "python",
   "pygments_lexer": "ipython3",
   "version": "3.11.3"
  }
 },
 "nbformat": 4,
 "nbformat_minor": 5
}
