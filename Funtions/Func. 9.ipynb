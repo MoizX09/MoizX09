{
 "cells": [
  {
   "cell_type": "code",
   "execution_count": null,
   "id": "a3ef67b1",
   "metadata": {},
   "outputs": [],
   "source": [
    "def describe_pet(animal = 'hamster', name = None):\n",
    "    \"\"\"Display information about a pet.\"\"\"\n",
    "    print(\"\\nI have a \" + animal + \".\")\n",
    "    print(\"Its name is \" + str(name) + \".\")\n",
    "\n",
    "\n",
    "describe_pet('hamster', 'harry')\n",
    "describe_pet('dog', 'willie')\n",
    "\n",
    "describe_pet()\n",
    "describe_pet(animal='lion', name='Simba')"
   ]
  }
 ],
 "metadata": {
  "kernelspec": {
   "display_name": "Python 3 (ipykernel)",
   "language": "python",
   "name": "python3"
  },
  "language_info": {
   "codemirror_mode": {
    "name": "ipython",
    "version": 3
   },
   "file_extension": ".py",
   "mimetype": "text/x-python",
   "name": "python",
   "nbconvert_exporter": "python",
   "pygments_lexer": "ipython3",
   "version": "3.11.3"
  }
 },
 "nbformat": 4,
 "nbformat_minor": 5
}
