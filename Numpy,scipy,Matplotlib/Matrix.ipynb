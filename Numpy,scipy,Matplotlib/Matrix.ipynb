{
 "cells": [
  {
   "cell_type": "code",
   "execution_count": 1,
   "id": "40b0308e",
   "metadata": {},
   "outputs": [
    {
     "name": "stdout",
     "output_type": "stream",
     "text": [
      "[[2 4]\n",
      " [6 8]\n",
      " [8 0]]\n",
      "[[2 6 8]\n",
      " [4 8 0]]\n",
      "[[2. 0. 0.]\n",
      " [0. 2. 0.]\n",
      " [0. 0. 2.]]\n",
      "[[ 4.  8.]\n",
      " [12. 16.]\n",
      " [16.  0.]]\n",
      "(array([[0., 0., 1.],\n",
      "       [0., 1., 0.],\n",
      "       [1., 0., 0.]]), array([[1.  , 0.  ],\n",
      "       [0.75, 1.  ],\n",
      "       [0.25, 0.5 ]]), array([[8., 0.],\n",
      "       [0., 8.]]))\n"
     ]
    }
   ],
   "source": [
    "import numpy as np\n",
    "from scipy.linalg import lu\n",
    "\n",
    "\n",
    "a = np.mat('2, 4; 6, 8; 8, 0')\n",
    "print(a)\n",
    "\n",
    "aT = np.transpose(a)\n",
    "print(aT)\n",
    "\n",
    "b = 2*np.eye(3)\n",
    "print(b)\n",
    "\n",
    "c = b*a\n",
    "print(c)\n",
    "\n",
    "l = lu(a)\n",
    "print(l)"
   ]
  },
  {
   "cell_type": "code",
   "execution_count": null,
   "id": "2ca374c8",
   "metadata": {},
   "outputs": [],
   "source": []
  }
 ],
 "metadata": {
  "kernelspec": {
   "display_name": "Python 3 (ipykernel)",
   "language": "python",
   "name": "python3"
  },
  "language_info": {
   "codemirror_mode": {
    "name": "ipython",
    "version": 3
   },
   "file_extension": ".py",
   "mimetype": "text/x-python",
   "name": "python",
   "nbconvert_exporter": "python",
   "pygments_lexer": "ipython3",
   "version": "3.11.3"
  }
 },
 "nbformat": 4,
 "nbformat_minor": 5
}
