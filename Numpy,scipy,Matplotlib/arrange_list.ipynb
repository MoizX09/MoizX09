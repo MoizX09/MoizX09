{
 "cells": [
  {
   "cell_type": "code",
   "execution_count": null,
   "id": "f43e3221",
   "metadata": {},
   "outputs": [],
   "source": [
    "# First Import Libraries\n",
    "import numpy as np\n",
    "\n",
    "# Arrange the list using np\n",
    "\n",
    "a = np.arange(1, 20)\n",
    "print(a)\n",
    "print(a.shape)\n",
    "\n",
    "b = np.arange(1, 20, 2)\n",
    "print(b)\n",
    "print(b.shape)\n",
    "\n",
    "c = np.arange(20, 2, -2)\n",
    "print(c)\n",
    "print(c.shape)"
   ]
  }
 ],
 "metadata": {
  "kernelspec": {
   "display_name": "Python 3 (ipykernel)",
   "language": "python",
   "name": "python3"
  },
  "language_info": {
   "codemirror_mode": {
    "name": "ipython",
    "version": 3
   },
   "file_extension": ".py",
   "mimetype": "text/x-python",
   "name": "python",
   "nbconvert_exporter": "python",
   "pygments_lexer": "ipython3",
   "version": "3.11.3"
  }
 },
 "nbformat": 4,
 "nbformat_minor": 5
}
