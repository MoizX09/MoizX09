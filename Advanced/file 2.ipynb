{
 "cells": [
  {
   "cell_type": "code",
   "execution_count": null,
   "id": "af4ac745",
   "metadata": {},
   "outputs": [],
   "source": [
    "number = 512\n",
    "string = 'Moiz'\n",
    "lis = ['name','number', 21]\n",
    "tup = ('name', 'number', 21)\n",
    "dictionary = {'name':string, 'number':number, 'age': 21}\n",
    "file = open('python.txt', 'r').read()"
   ]
  }
 ],
 "metadata": {
  "kernelspec": {
   "display_name": "Python 3 (ipykernel)",
   "language": "python",
   "name": "python3"
  },
  "language_info": {
   "codemirror_mode": {
    "name": "ipython",
    "version": 3
   },
   "file_extension": ".py",
   "mimetype": "text/x-python",
   "name": "python",
   "nbconvert_exporter": "python",
   "pygments_lexer": "ipython3",
   "version": "3.11.3"
  }
 },
 "nbformat": 4,
 "nbformat_minor": 5
}
