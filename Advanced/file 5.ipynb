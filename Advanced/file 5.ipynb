{
 "cells": [
  {
   "cell_type": "code",
   "execution_count": 1,
   "id": "1da2094b",
   "metadata": {},
   "outputs": [
    {
     "name": "stdout",
     "output_type": "stream",
     "text": [
      "00000000001010\n",
      "00000000000008\n",
      "000000000000 2\n"
     ]
    }
   ],
   "source": [
    "#directly number conversion with 'zfill'\n",
    "\n",
    "print('{:06b}'.format(10).zfill(14))\n",
    "print('{:07x}'.format(8).zfill(14))\n",
    "print('{:2x}'.format(2).zfill(14))"
   ]
  },
  {
   "cell_type": "code",
   "execution_count": null,
   "id": "7e797704",
   "metadata": {},
   "outputs": [],
   "source": []
  }
 ],
 "metadata": {
  "kernelspec": {
   "display_name": "Python 3 (ipykernel)",
   "language": "python",
   "name": "python3"
  },
  "language_info": {
   "codemirror_mode": {
    "name": "ipython",
    "version": 3
   },
   "file_extension": ".py",
   "mimetype": "text/x-python",
   "name": "python",
   "nbconvert_exporter": "python",
   "pygments_lexer": "ipython3",
   "version": "3.11.3"
  }
 },
 "nbformat": 4,
 "nbformat_minor": 5
}
