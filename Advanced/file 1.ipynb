{
 "cells": [
  {
   "cell_type": "code",
   "execution_count": null,
   "id": "dfd54990",
   "metadata": {},
   "outputs": [],
   "source": [
    "# For converting numbers(binary,octal,hex.)\n",
    "\n",
    "a = 46\n",
    "b = 0o106\n",
    "\n",
    "\n",
    "\n",
    "print(hex(a))\n",
    "print(oct(a))\n",
    "print(bin(a))\n",
    "print(b)"
   ]
  }
 ],
 "metadata": {
  "kernelspec": {
   "display_name": "Python 3 (ipykernel)",
   "language": "python",
   "name": "python3"
  },
  "language_info": {
   "codemirror_mode": {
    "name": "ipython",
    "version": 3
   },
   "file_extension": ".py",
   "mimetype": "text/x-python",
   "name": "python",
   "nbconvert_exporter": "python",
   "pygments_lexer": "ipython3",
   "version": "3.11.3"
  }
 },
 "nbformat": 4,
 "nbformat_minor": 5
}
