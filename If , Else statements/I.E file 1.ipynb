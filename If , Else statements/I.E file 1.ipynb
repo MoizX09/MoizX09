{
 "cells": [
  {
   "cell_type": "code",
   "execution_count": 1,
   "id": "9920c290",
   "metadata": {},
   "outputs": [
    {
     "name": "stdout",
     "output_type": "stream",
     "text": [
      "True\n",
      "29\n",
      "29\n",
      "True\n",
      "29\n",
      "True\n"
     ]
    }
   ],
   "source": [
    "a = 29\n",
    "\n",
    "# ==\n",
    "if a == 29:\n",
    "    print(bool(a))\n",
    "else:\n",
    "    print(a)\n",
    "\n",
    "\n",
    "# !=\n",
    "if a != 29:\n",
    "    print(bool(a))\n",
    "else:\n",
    "    print(a)\n",
    "\n",
    "\n",
    "# >\n",
    "if a > 29:\n",
    "    print(bool(a))\n",
    "else:\n",
    "    print(a)\n",
    "\n",
    "\n",
    "# >=\n",
    "if a >= 29:\n",
    "    print(bool(a))\n",
    "else:\n",
    "    print(a)\n",
    "\n",
    "\n",
    "# <\n",
    "if a < 29:\n",
    "    print(bool(a))\n",
    "else:\n",
    "    print(a)\n",
    "\n",
    "\n",
    "# <=\n",
    "if a <= 29:\n",
    "    print(bool(a))\n",
    "else:\n",
    "    print(a)"
   ]
  },
  {
   "cell_type": "code",
   "execution_count": null,
   "id": "50392279",
   "metadata": {},
   "outputs": [],
   "source": []
  }
 ],
 "metadata": {
  "kernelspec": {
   "display_name": "Python 3 (ipykernel)",
   "language": "python",
   "name": "python3"
  },
  "language_info": {
   "codemirror_mode": {
    "name": "ipython",
    "version": 3
   },
   "file_extension": ".py",
   "mimetype": "text/x-python",
   "name": "python",
   "nbconvert_exporter": "python",
   "pygments_lexer": "ipython3",
   "version": "3.11.3"
  }
 },
 "nbformat": 4,
 "nbformat_minor": 5
}
