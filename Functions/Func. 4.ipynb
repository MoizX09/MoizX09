{
 "cells": [
  {
   "cell_type": "code",
   "execution_count": null,
   "id": "78281260",
   "metadata": {},
   "outputs": [],
   "source": [
    "def function(name = 'Adeel'):\n",
    "    print(\"Hello \" + name + \"!\")\n",
    "\n",
    "\n",
    "function()\n",
    "name = input(\"What is your name: \")\n",
    "function(name)"
   ]
  }
 ],
 "metadata": {
  "kernelspec": {
   "display_name": "Python 3 (ipykernel)",
   "language": "python",
   "name": "python3"
  },
  "language_info": {
   "codemirror_mode": {
    "name": "ipython",
    "version": 3
   },
   "file_extension": ".py",
   "mimetype": "text/x-python",
   "name": "python",
   "nbconvert_exporter": "python",
   "pygments_lexer": "ipython3",
   "version": "3.11.3"
  }
 },
 "nbformat": 4,
 "nbformat_minor": 5
}
