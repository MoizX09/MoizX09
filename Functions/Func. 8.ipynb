{
 "cells": [
  {
   "cell_type": "code",
   "execution_count": null,
   "id": "0c2b46ff",
   "metadata": {},
   "outputs": [],
   "source": [
    "def describe_pet(animal, name):\n",
    "\n",
    "    print(\"\\nI have a \" + animal + \".\")\n",
    "    print(\"Its name is \" + name + \".\")\n",
    "\n",
    "describe_pet(animal='hamster', name='harry')\n",
    "describe_pet(name='willie', animal='dog')"
   ]
  }
 ],
 "metadata": {
  "kernelspec": {
   "display_name": "Python 3 (ipykernel)",
   "language": "python",
   "name": "python3"
  },
  "language_info": {
   "codemirror_mode": {
    "name": "ipython",
    "version": 3
   },
   "file_extension": ".py",
   "mimetype": "text/x-python",
   "name": "python",
   "nbconvert_exporter": "python",
   "pygments_lexer": "ipython3",
   "version": "3.11.3"
  }
 },
 "nbformat": 4,
 "nbformat_minor": 5
}
