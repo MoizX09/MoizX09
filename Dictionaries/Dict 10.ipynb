{
 "cells": [
  {
   "cell_type": "code",
   "execution_count": 1,
   "id": "fa8ace74",
   "metadata": {},
   "outputs": [],
   "source": [
    "aliens = []"
   ]
  },
  {
   "cell_type": "code",
   "execution_count": 2,
   "id": "884de03b",
   "metadata": {},
   "outputs": [],
   "source": [
    "for alien_num in range(100):\n",
    "    new_alien = {}\n",
    "    new_alien['color'] = 'green'\n",
    "    new_alien['points'] = 5\n",
    "    new_alien['x'] = 20 * alien_num\n",
    "    new_alien['y'] = 7 * int(new_alien['x'])\n",
    "    aliens.append(new_alien)"
   ]
  },
  {
   "cell_type": "code",
   "execution_count": 3,
   "id": "dd5dcf5f",
   "metadata": {},
   "outputs": [
    {
     "name": "stdout",
     "output_type": "stream",
     "text": [
      "Number of aliens created:\n",
      "100\n",
      "[{'color': 'green', 'points': 5, 'x': 0, 'y': 0}, {'color': 'green', 'points': 5, 'x': 20, 'y': 140}, {'color': 'green', 'points': 5, 'x': 40, 'y': 280}, {'color': 'green', 'points': 5, 'x': 60, 'y': 420}, {'color': 'green', 'points': 5, 'x': 80, 'y': 560}, {'color': 'green', 'points': 5, 'x': 100, 'y': 700}, {'color': 'green', 'points': 5, 'x': 120, 'y': 840}, {'color': 'green', 'points': 5, 'x': 140, 'y': 980}, {'color': 'green', 'points': 5, 'x': 160, 'y': 1120}, {'color': 'green', 'points': 5, 'x': 180, 'y': 1260}, {'color': 'green', 'points': 5, 'x': 200, 'y': 1400}, {'color': 'green', 'points': 5, 'x': 220, 'y': 1540}, {'color': 'green', 'points': 5, 'x': 240, 'y': 1680}, {'color': 'green', 'points': 5, 'x': 260, 'y': 1820}, {'color': 'green', 'points': 5, 'x': 280, 'y': 1960}, {'color': 'green', 'points': 5, 'x': 300, 'y': 2100}, {'color': 'green', 'points': 5, 'x': 320, 'y': 2240}, {'color': 'green', 'points': 5, 'x': 340, 'y': 2380}, {'color': 'green', 'points': 5, 'x': 360, 'y': 2520}, {'color': 'green', 'points': 5, 'x': 380, 'y': 2660}, {'color': 'green', 'points': 5, 'x': 400, 'y': 2800}, {'color': 'green', 'points': 5, 'x': 420, 'y': 2940}, {'color': 'green', 'points': 5, 'x': 440, 'y': 3080}, {'color': 'green', 'points': 5, 'x': 460, 'y': 3220}, {'color': 'green', 'points': 5, 'x': 480, 'y': 3360}, {'color': 'green', 'points': 5, 'x': 500, 'y': 3500}, {'color': 'green', 'points': 5, 'x': 520, 'y': 3640}, {'color': 'green', 'points': 5, 'x': 540, 'y': 3780}, {'color': 'green', 'points': 5, 'x': 560, 'y': 3920}, {'color': 'green', 'points': 5, 'x': 580, 'y': 4060}, {'color': 'green', 'points': 5, 'x': 600, 'y': 4200}, {'color': 'green', 'points': 5, 'x': 620, 'y': 4340}, {'color': 'green', 'points': 5, 'x': 640, 'y': 4480}, {'color': 'green', 'points': 5, 'x': 660, 'y': 4620}, {'color': 'green', 'points': 5, 'x': 680, 'y': 4760}, {'color': 'green', 'points': 5, 'x': 700, 'y': 4900}, {'color': 'green', 'points': 5, 'x': 720, 'y': 5040}, {'color': 'green', 'points': 5, 'x': 740, 'y': 5180}, {'color': 'green', 'points': 5, 'x': 760, 'y': 5320}, {'color': 'green', 'points': 5, 'x': 780, 'y': 5460}, {'color': 'green', 'points': 5, 'x': 800, 'y': 5600}, {'color': 'green', 'points': 5, 'x': 820, 'y': 5740}, {'color': 'green', 'points': 5, 'x': 840, 'y': 5880}, {'color': 'green', 'points': 5, 'x': 860, 'y': 6020}, {'color': 'green', 'points': 5, 'x': 880, 'y': 6160}, {'color': 'green', 'points': 5, 'x': 900, 'y': 6300}, {'color': 'green', 'points': 5, 'x': 920, 'y': 6440}, {'color': 'green', 'points': 5, 'x': 940, 'y': 6580}, {'color': 'green', 'points': 5, 'x': 960, 'y': 6720}, {'color': 'green', 'points': 5, 'x': 980, 'y': 6860}, {'color': 'green', 'points': 5, 'x': 1000, 'y': 7000}, {'color': 'green', 'points': 5, 'x': 1020, 'y': 7140}, {'color': 'green', 'points': 5, 'x': 1040, 'y': 7280}, {'color': 'green', 'points': 5, 'x': 1060, 'y': 7420}, {'color': 'green', 'points': 5, 'x': 1080, 'y': 7560}, {'color': 'green', 'points': 5, 'x': 1100, 'y': 7700}, {'color': 'green', 'points': 5, 'x': 1120, 'y': 7840}, {'color': 'green', 'points': 5, 'x': 1140, 'y': 7980}, {'color': 'green', 'points': 5, 'x': 1160, 'y': 8120}, {'color': 'green', 'points': 5, 'x': 1180, 'y': 8260}, {'color': 'green', 'points': 5, 'x': 1200, 'y': 8400}, {'color': 'green', 'points': 5, 'x': 1220, 'y': 8540}, {'color': 'green', 'points': 5, 'x': 1240, 'y': 8680}, {'color': 'green', 'points': 5, 'x': 1260, 'y': 8820}, {'color': 'green', 'points': 5, 'x': 1280, 'y': 8960}, {'color': 'green', 'points': 5, 'x': 1300, 'y': 9100}, {'color': 'green', 'points': 5, 'x': 1320, 'y': 9240}, {'color': 'green', 'points': 5, 'x': 1340, 'y': 9380}, {'color': 'green', 'points': 5, 'x': 1360, 'y': 9520}, {'color': 'green', 'points': 5, 'x': 1380, 'y': 9660}, {'color': 'green', 'points': 5, 'x': 1400, 'y': 9800}, {'color': 'green', 'points': 5, 'x': 1420, 'y': 9940}, {'color': 'green', 'points': 5, 'x': 1440, 'y': 10080}, {'color': 'green', 'points': 5, 'x': 1460, 'y': 10220}, {'color': 'green', 'points': 5, 'x': 1480, 'y': 10360}, {'color': 'green', 'points': 5, 'x': 1500, 'y': 10500}, {'color': 'green', 'points': 5, 'x': 1520, 'y': 10640}, {'color': 'green', 'points': 5, 'x': 1540, 'y': 10780}, {'color': 'green', 'points': 5, 'x': 1560, 'y': 10920}, {'color': 'green', 'points': 5, 'x': 1580, 'y': 11060}, {'color': 'green', 'points': 5, 'x': 1600, 'y': 11200}, {'color': 'green', 'points': 5, 'x': 1620, 'y': 11340}, {'color': 'green', 'points': 5, 'x': 1640, 'y': 11480}, {'color': 'green', 'points': 5, 'x': 1660, 'y': 11620}, {'color': 'green', 'points': 5, 'x': 1680, 'y': 11760}, {'color': 'green', 'points': 5, 'x': 1700, 'y': 11900}, {'color': 'green', 'points': 5, 'x': 1720, 'y': 12040}, {'color': 'green', 'points': 5, 'x': 1740, 'y': 12180}, {'color': 'green', 'points': 5, 'x': 1760, 'y': 12320}, {'color': 'green', 'points': 5, 'x': 1780, 'y': 12460}, {'color': 'green', 'points': 5, 'x': 1800, 'y': 12600}, {'color': 'green', 'points': 5, 'x': 1820, 'y': 12740}, {'color': 'green', 'points': 5, 'x': 1840, 'y': 12880}, {'color': 'green', 'points': 5, 'x': 1860, 'y': 13020}, {'color': 'green', 'points': 5, 'x': 1880, 'y': 13160}, {'color': 'green', 'points': 5, 'x': 1900, 'y': 13300}, {'color': 'green', 'points': 5, 'x': 1920, 'y': 13440}, {'color': 'green', 'points': 5, 'x': 1940, 'y': 13580}, {'color': 'green', 'points': 5, 'x': 1960, 'y': 13720}, {'color': 'green', 'points': 5, 'x': 1980, 'y': 13860}]\n"
     ]
    }
   ],
   "source": [
    "num_aliens = len(aliens)\n",
    "print(\"Number of aliens created:\")\n",
    "print(num_aliens)\n",
    "print(aliens)"
   ]
  },
  {
   "cell_type": "code",
   "execution_count": null,
   "id": "3366116e",
   "metadata": {},
   "outputs": [],
   "source": []
  }
 ],
 "metadata": {
  "kernelspec": {
   "display_name": "Python 3 (ipykernel)",
   "language": "python",
   "name": "python3"
  },
  "language_info": {
   "codemirror_mode": {
    "name": "ipython",
    "version": 3
   },
   "file_extension": ".py",
   "mimetype": "text/x-python",
   "name": "python",
   "nbconvert_exporter": "python",
   "pygments_lexer": "ipython3",
   "version": "3.11.3"
  }
 },
 "nbformat": 4,
 "nbformat_minor": 5
}
