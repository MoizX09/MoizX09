{
 "cells": [
  {
   "cell_type": "code",
   "execution_count": 1,
   "id": "67ed9d33",
   "metadata": {},
   "outputs": [
    {
     "name": "stdout",
     "output_type": "stream",
     "text": [
      "last: Khan\n",
      "\n",
      "\n",
      "first: Moiz\n",
      "\n",
      "\n",
      "username: MoizKhan\n",
      "\n",
      "\n",
      "last: Cheena\n",
      "\n",
      "\n",
      "first: Adeel\n",
      "\n",
      "\n",
      "username: AdeelCheena\n",
      "\n",
      "\n"
     ]
    }
   ],
   "source": [
    "users = []\n",
    "new_user = {\n",
    "    'last': 'Khan',\n",
    "    'first': 'Moiz',\n",
    "    'username': 'MoizKhan',\n",
    " }\n",
    "\n",
    "users.append(new_user)\n",
    "\n",
    "new_user = {\n",
    "    'last': 'Cheena',\n",
    "    'first': 'Adeel',\n",
    "    'username': 'AdeelCheena',\n",
    " }\n",
    "users.append(new_user)\n",
    "\n",
    "for user_dict in users:\n",
    "    for k, v in user_dict.items():\n",
    "        print(k + \": \" + v)\n",
    "        print(\"\\n\")"
   ]
  },
  {
   "cell_type": "code",
   "execution_count": null,
   "id": "66d996d0",
   "metadata": {},
   "outputs": [],
   "source": []
  }
 ],
 "metadata": {
  "kernelspec": {
   "display_name": "Python 3 (ipykernel)",
   "language": "python",
   "name": "python3"
  },
  "language_info": {
   "codemirror_mode": {
    "name": "ipython",
    "version": 3
   },
   "file_extension": ".py",
   "mimetype": "text/x-python",
   "name": "python",
   "nbconvert_exporter": "python",
   "pygments_lexer": "ipython3",
   "version": "3.11.3"
  }
 },
 "nbformat": 4,
 "nbformat_minor": 5
}
