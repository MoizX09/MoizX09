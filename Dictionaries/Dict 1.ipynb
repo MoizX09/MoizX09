{
 "cells": [
  {
   "cell_type": "code",
   "execution_count": 1,
   "id": "43b4fc02",
   "metadata": {},
   "outputs": [
    {
     "name": "stdout",
     "output_type": "stream",
     "text": [
      "{'Color': 'Green', 'Height': 3}\n"
     ]
    }
   ],
   "source": [
    "Flag = {\"Color\" : \"Green\", \"Height\" : 3}\n",
    "\n",
    "print(Flag)"
   ]
  },
  {
   "cell_type": "code",
   "execution_count": null,
   "id": "e658bfbc",
   "metadata": {},
   "outputs": [],
   "source": []
  }
 ],
 "metadata": {
  "kernelspec": {
   "display_name": "Python 3 (ipykernel)",
   "language": "python",
   "name": "python3"
  },
  "language_info": {
   "codemirror_mode": {
    "name": "ipython",
    "version": 3
   },
   "file_extension": ".py",
   "mimetype": "text/x-python",
   "name": "python",
   "nbconvert_exporter": "python",
   "pygments_lexer": "ipython3",
   "version": "3.11.3"
  }
 },
 "nbformat": 4,
 "nbformat_minor": 5
}
