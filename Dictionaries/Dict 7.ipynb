{
 "cells": [
  {
   "cell_type": "code",
   "execution_count": 1,
   "id": "71d88043",
   "metadata": {},
   "outputs": [
    {
     "name": "stdout",
     "output_type": "stream",
     "text": [
      "{'China': 'Country', 'Pakistan': 'Country'}\n",
      "dict_keys(['China', 'Pakistan'])\n",
      "dict_values(['Country', 'Country'])\n",
      "dict_items([('China', 'Country'), ('Pakistan', 'Country')])\n"
     ]
    }
   ],
   "source": [
    "dictionary = {}\n",
    "\n",
    "dictionary['China'] = 'Country'\n",
    "dictionary['Pakistan'] = 'Country'\n",
    "\n",
    "\n",
    "print(dictionary)\n",
    "\n",
    "print(dictionary.keys())\n",
    "print(dictionary.values())\n",
    "print(dictionary.items())"
   ]
  },
  {
   "cell_type": "code",
   "execution_count": null,
   "id": "52c088d4",
   "metadata": {},
   "outputs": [],
   "source": []
  }
 ],
 "metadata": {
  "kernelspec": {
   "display_name": "Python 3 (ipykernel)",
   "language": "python",
   "name": "python3"
  },
  "language_info": {
   "codemirror_mode": {
    "name": "ipython",
    "version": 3
   },
   "file_extension": ".py",
   "mimetype": "text/x-python",
   "name": "python",
   "nbconvert_exporter": "python",
   "pygments_lexer": "ipython3",
   "version": "3.11.3"
  }
 },
 "nbformat": 4,
 "nbformat_minor": 5
}
