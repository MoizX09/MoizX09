{
 "cells": [
  {
   "cell_type": "code",
   "execution_count": 1,
   "id": "4332533c",
   "metadata": {},
   "outputs": [
    {
     "name": "stdout",
     "output_type": "stream",
     "text": [
      "19 is a favorite\n",
      "7 is a favorite\n"
     ]
    }
   ],
   "source": [
    "fav_numbers = {'Burdoc': 19, 'ever': 7}\n",
    "\n",
    "for number in fav_numbers.values():\n",
    "    print(str(number) + ' is a favorite')"
   ]
  },
  {
   "cell_type": "code",
   "execution_count": null,
   "id": "152fed1f",
   "metadata": {},
   "outputs": [],
   "source": []
  }
 ],
 "metadata": {
  "kernelspec": {
   "display_name": "Python 3 (ipykernel)",
   "language": "python",
   "name": "python3"
  },
  "language_info": {
   "codemirror_mode": {
    "name": "ipython",
    "version": 3
   },
   "file_extension": ".py",
   "mimetype": "text/x-python",
   "name": "python",
   "nbconvert_exporter": "python",
   "pygments_lexer": "ipython3",
   "version": "3.11.3"
  }
 },
 "nbformat": 4,
 "nbformat_minor": 5
}
