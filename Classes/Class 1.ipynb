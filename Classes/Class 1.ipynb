{
 "cells": [
  {
   "cell_type": "code",
   "execution_count": null,
   "id": "43718daf",
   "metadata": {},
   "outputs": [],
   "source": [
    "class dog():\n",
    " def_init_(self,name):\n",
    "     self.name = name\n",
    "  def sit(self):\n",
    "    print(self.name + \"is sitting.\")\n",
    "    \n",
    "    \n",
    " my_dog = Dog('toyo')\n",
    "    print (my_dog.name + \"is a great dog\")\n",
    "    my_dog.sit()"
   ]
  }
 ],
 "metadata": {
  "kernelspec": {
   "display_name": "Python 3 (ipykernel)",
   "language": "python",
   "name": "python3"
  },
  "language_info": {
   "codemirror_mode": {
    "name": "ipython",
    "version": 3
   },
   "file_extension": ".py",
   "mimetype": "text/x-python",
   "name": "python",
   "nbconvert_exporter": "python",
   "pygments_lexer": "ipython3",
   "version": "3.11.3"
  }
 },
 "nbformat": 4,
 "nbformat_minor": 5
}
